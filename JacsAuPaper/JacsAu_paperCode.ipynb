{
 "cells": [
  {
   "cell_type": "markdown",
   "metadata": {
    "id": "FQqt4NiC9seI"
   },
   "source": [
    "# Advancing Rare-Earth Separation by Machine Learning\n"
   ]
  },
  {
   "cell_type": "markdown",
   "metadata": {
    "id": "ssk6A_t995bq"
   },
   "source": [
    "Liu, T., Johnson, K.R., Jansone-Popova, S. and Jiang, D.E., 2022. Advancing Rare-Earth Separation by Machine Learning. JACS Au, 2(6), pp.1428-1434.\n"
   ]
  },
  {
   "cell_type": "markdown",
   "metadata": {
    "id": "67hUMIJj98O8"
   },
   "source": [
    "## Table of content\n",
    "\n",
    "* Load dataset\n",
    "* Data preparation\n",
    "* Build and train the model\n",
    "* Evaluate the model\n",
    "* Inference"
   ]
  },
  {
   "cell_type": "markdown",
   "metadata": {
    "id": "_v4BrcXf-Ha6"
   },
   "source": [
    "# Load dataset"
   ]
  },
  {
   "cell_type": "code",
   "execution_count": 4,
   "metadata": {
    "id": "dK728lzN85VZ"
   },
   "outputs": [
    {
     "name": "stdout",
     "output_type": "stream",
     "text": [
      "tf version:  2.17.0\n",
      "keras version:  3.4.1\n",
      "np version:  1.26.4\n",
      "plt version:  3.8.0\n",
      "pd version:  2.1.4\n"
     ]
    }
   ],
   "source": [
    "# import packages\n",
    "import tensorflow as tf\n",
    "from tensorflow import keras\n",
    "import numpy as np\n",
    "import matplotlib\n",
    "import matplotlib.pyplot as plt\n",
    "import pandas as pd\n",
    "\n",
    "print(\"tf version: \", tf.__version__)\n",
    "print(\"keras version: \", keras.__version__)\n",
    "print(\"np version: \", np.__version__)\n",
    "print(\"matplotlib version: \", matplotlib.__version__)\n",
    "print(\"pd version: \", pd.__version__)"
   ]
  },
  {
   "cell_type": "code",
   "execution_count": 6,
   "metadata": {
    "colab": {
     "base_uri": "https://localhost:8080/",
     "height": 334
    },
    "id": "v-dEQUerTHCH",
    "outputId": "3ae75329-2518-4610-c7f4-8c2ecf5b4827"
   },
   "outputs": [
    {
     "data": {
      "text/html": [
       "<div>\n",
       "<style scoped>\n",
       "    .dataframe tbody tr th:only-of-type {\n",
       "        vertical-align: middle;\n",
       "    }\n",
       "\n",
       "    .dataframe tbody tr th {\n",
       "        vertical-align: top;\n",
       "    }\n",
       "\n",
       "    .dataframe thead th {\n",
       "        text-align: right;\n",
       "    }\n",
       "</style>\n",
       "<table border=\"1\" class=\"dataframe\">\n",
       "  <thead>\n",
       "    <tr style=\"text-align: right;\">\n",
       "      <th></th>\n",
       "      <th>ECFP-1</th>\n",
       "      <th>ECFP-2</th>\n",
       "      <th>ECFP-3</th>\n",
       "      <th>ECFP-4</th>\n",
       "      <th>ECFP-5</th>\n",
       "      <th>ECFP-6</th>\n",
       "      <th>ECFP-7</th>\n",
       "      <th>ECFP-8</th>\n",
       "      <th>ECFP-9</th>\n",
       "      <th>ECFP-10</th>\n",
       "      <th>...</th>\n",
       "      <th>Second IE_metal  (kJ/mol)</th>\n",
       "      <th>Third IE_metal  (kJ/mol)</th>\n",
       "      <th>Electron Affinity_metal  (kJ/mol)</th>\n",
       "      <th>Atomic Radius_metal</th>\n",
       "      <th>Covalent Radius_metal</th>\n",
       "      <th>Pauling EN_metal</th>\n",
       "      <th>Ionic Radius_metal</th>\n",
       "      <th>Standard Entropy_metal (J/mol.K)</th>\n",
       "      <th>log_D</th>\n",
       "      <th>reference</th>\n",
       "    </tr>\n",
       "  </thead>\n",
       "  <tbody>\n",
       "    <tr>\n",
       "      <th>0</th>\n",
       "      <td>0</td>\n",
       "      <td>0</td>\n",
       "      <td>0</td>\n",
       "      <td>0</td>\n",
       "      <td>0</td>\n",
       "      <td>0</td>\n",
       "      <td>0</td>\n",
       "      <td>0</td>\n",
       "      <td>0</td>\n",
       "      <td>0</td>\n",
       "      <td>...</td>\n",
       "      <td>1341.1</td>\n",
       "      <td>2022.3</td>\n",
       "      <td>32.8</td>\n",
       "      <td>2.24</td>\n",
       "      <td>1.74</td>\n",
       "      <td>1.00</td>\n",
       "      <td>0.861</td>\n",
       "      <td>51.0</td>\n",
       "      <td>0.342423</td>\n",
       "      <td>1</td>\n",
       "    </tr>\n",
       "    <tr>\n",
       "      <th>1</th>\n",
       "      <td>0</td>\n",
       "      <td>0</td>\n",
       "      <td>0</td>\n",
       "      <td>0</td>\n",
       "      <td>0</td>\n",
       "      <td>0</td>\n",
       "      <td>0</td>\n",
       "      <td>0</td>\n",
       "      <td>0</td>\n",
       "      <td>0</td>\n",
       "      <td>...</td>\n",
       "      <td>1068.1</td>\n",
       "      <td>2257.8</td>\n",
       "      <td>15.6</td>\n",
       "      <td>2.36</td>\n",
       "      <td>1.85</td>\n",
       "      <td>1.17</td>\n",
       "      <td>0.958</td>\n",
       "      <td>69.5</td>\n",
       "      <td>0.505150</td>\n",
       "      <td>1</td>\n",
       "    </tr>\n",
       "    <tr>\n",
       "      <th>2</th>\n",
       "      <td>0</td>\n",
       "      <td>0</td>\n",
       "      <td>0</td>\n",
       "      <td>0</td>\n",
       "      <td>0</td>\n",
       "      <td>0</td>\n",
       "      <td>0</td>\n",
       "      <td>0</td>\n",
       "      <td>0</td>\n",
       "      <td>0</td>\n",
       "      <td>...</td>\n",
       "      <td>1166.5</td>\n",
       "      <td>1990.5</td>\n",
       "      <td>13.2</td>\n",
       "      <td>2.34</td>\n",
       "      <td>1.82</td>\n",
       "      <td>1.20</td>\n",
       "      <td>0.938</td>\n",
       "      <td>67.9</td>\n",
       "      <td>0.230449</td>\n",
       "      <td>1</td>\n",
       "    </tr>\n",
       "    <tr>\n",
       "      <th>3</th>\n",
       "      <td>0</td>\n",
       "      <td>0</td>\n",
       "      <td>0</td>\n",
       "      <td>0</td>\n",
       "      <td>0</td>\n",
       "      <td>0</td>\n",
       "      <td>0</td>\n",
       "      <td>0</td>\n",
       "      <td>0</td>\n",
       "      <td>0</td>\n",
       "      <td>...</td>\n",
       "      <td>1034.3</td>\n",
       "      <td>2132.3</td>\n",
       "      <td>184.9</td>\n",
       "      <td>2.39</td>\n",
       "      <td>1.88</td>\n",
       "      <td>1.14</td>\n",
       "      <td>0.983</td>\n",
       "      <td>71.1</td>\n",
       "      <td>0.041393</td>\n",
       "      <td>1</td>\n",
       "    </tr>\n",
       "    <tr>\n",
       "      <th>4</th>\n",
       "      <td>0</td>\n",
       "      <td>0</td>\n",
       "      <td>0</td>\n",
       "      <td>0</td>\n",
       "      <td>0</td>\n",
       "      <td>0</td>\n",
       "      <td>0</td>\n",
       "      <td>0</td>\n",
       "      <td>0</td>\n",
       "      <td>0</td>\n",
       "      <td>...</td>\n",
       "      <td>1034.3</td>\n",
       "      <td>2132.3</td>\n",
       "      <td>184.9</td>\n",
       "      <td>2.39</td>\n",
       "      <td>1.88</td>\n",
       "      <td>1.14</td>\n",
       "      <td>0.983</td>\n",
       "      <td>71.1</td>\n",
       "      <td>1.344392</td>\n",
       "      <td>2</td>\n",
       "    </tr>\n",
       "  </tbody>\n",
       "</table>\n",
       "<p>5 rows × 2293 columns</p>\n",
       "</div>"
      ],
      "text/plain": [
       "   ECFP-1  ECFP-2  ECFP-3  ECFP-4  ECFP-5  ECFP-6  ECFP-7  ECFP-8  ECFP-9  \\\n",
       "0       0       0       0       0       0       0       0       0       0   \n",
       "1       0       0       0       0       0       0       0       0       0   \n",
       "2       0       0       0       0       0       0       0       0       0   \n",
       "3       0       0       0       0       0       0       0       0       0   \n",
       "4       0       0       0       0       0       0       0       0       0   \n",
       "\n",
       "   ECFP-10  ...  Second IE_metal  (kJ/mol)  Third IE_metal  (kJ/mol)  \\\n",
       "0        0  ...                     1341.1                    2022.3   \n",
       "1        0  ...                     1068.1                    2257.8   \n",
       "2        0  ...                     1166.5                    1990.5   \n",
       "3        0  ...                     1034.3                    2132.3   \n",
       "4        0  ...                     1034.3                    2132.3   \n",
       "\n",
       "   Electron Affinity_metal  (kJ/mol)  Atomic Radius_metal   \\\n",
       "0                               32.8                  2.24   \n",
       "1                               15.6                  2.36   \n",
       "2                               13.2                  2.34   \n",
       "3                              184.9                  2.39   \n",
       "4                              184.9                  2.39   \n",
       "\n",
       "   Covalent Radius_metal   Pauling EN_metal   Ionic Radius_metal   \\\n",
       "0                    1.74               1.00                0.861   \n",
       "1                    1.85               1.17                0.958   \n",
       "2                    1.82               1.20                0.938   \n",
       "3                    1.88               1.14                0.983   \n",
       "4                    1.88               1.14                0.983   \n",
       "\n",
       "   Standard Entropy_metal (J/mol.K)     log_D  reference  \n",
       "0                              51.0  0.342423          1  \n",
       "1                              69.5  0.505150          1  \n",
       "2                              67.9  0.230449          1  \n",
       "3                              71.1  0.041393          1  \n",
       "4                              71.1  1.344392          2  \n",
       "\n",
       "[5 rows x 2293 columns]"
      ]
     },
     "execution_count": 6,
     "metadata": {},
     "output_type": "execute_result"
    }
   ],
   "source": [
    "# Read the excel file\n",
    "Training_Dataset = pd.read_excel(\"au2c00122_si_002.xlsx\", sheet_name='training set')\n",
    "Validation_Dataset = pd.read_excel(\"au2c00122_si_002.xlsx\", sheet_name='validation set')\n",
    "\n",
    "Validation_Dataset.head()"
   ]
  },
  {
   "cell_type": "markdown",
   "metadata": {
    "id": "m32ztmLV-Q3E"
   },
   "source": [
    "# Data preparation"
   ]
  },
  {
   "cell_type": "code",
   "execution_count": 7,
   "metadata": {
    "colab": {
     "base_uri": "https://localhost:8080/",
     "height": 334
    },
    "id": "779jmkngY6ws",
    "outputId": "d9b8c403-5e47-4ae0-fa1f-1b04772f4ff3"
   },
   "outputs": [
    {
     "data": {
      "text/html": [
       "<div>\n",
       "<style scoped>\n",
       "    .dataframe tbody tr th:only-of-type {\n",
       "        vertical-align: middle;\n",
       "    }\n",
       "\n",
       "    .dataframe tbody tr th {\n",
       "        vertical-align: top;\n",
       "    }\n",
       "\n",
       "    .dataframe thead th {\n",
       "        text-align: right;\n",
       "    }\n",
       "</style>\n",
       "<table border=\"1\" class=\"dataframe\">\n",
       "  <thead>\n",
       "    <tr style=\"text-align: right;\">\n",
       "      <th></th>\n",
       "      <th>ECFP-1</th>\n",
       "      <th>ECFP-2</th>\n",
       "      <th>ECFP-3</th>\n",
       "      <th>ECFP-4</th>\n",
       "      <th>ECFP-5</th>\n",
       "      <th>ECFP-6</th>\n",
       "      <th>ECFP-7</th>\n",
       "      <th>ECFP-8</th>\n",
       "      <th>ECFP-9</th>\n",
       "      <th>ECFP-10</th>\n",
       "      <th>...</th>\n",
       "      <th>Density_metal  (g/cm3)</th>\n",
       "      <th>First IE_metal  (kJ/mol)</th>\n",
       "      <th>Second IE_metal  (kJ/mol)</th>\n",
       "      <th>Third IE_metal  (kJ/mol)</th>\n",
       "      <th>Electron Affinity_metal  (kJ/mol)</th>\n",
       "      <th>Atomic Radius_metal</th>\n",
       "      <th>Covalent Radius_metal</th>\n",
       "      <th>Pauling EN_metal</th>\n",
       "      <th>Ionic Radius_metal</th>\n",
       "      <th>Standard Entropy_metal (J/mol.K)</th>\n",
       "    </tr>\n",
       "  </thead>\n",
       "  <tbody>\n",
       "    <tr>\n",
       "      <th>0</th>\n",
       "      <td>0</td>\n",
       "      <td>0</td>\n",
       "      <td>0</td>\n",
       "      <td>0</td>\n",
       "      <td>0</td>\n",
       "      <td>0</td>\n",
       "      <td>0</td>\n",
       "      <td>0</td>\n",
       "      <td>0</td>\n",
       "      <td>0</td>\n",
       "      <td>...</td>\n",
       "      <td>6.16</td>\n",
       "      <td>538.1</td>\n",
       "      <td>1067.0</td>\n",
       "      <td>1850.3</td>\n",
       "      <td>48.0</td>\n",
       "      <td>1.87</td>\n",
       "      <td>2.08</td>\n",
       "      <td>1.10</td>\n",
       "      <td>1.030</td>\n",
       "      <td>56.9</td>\n",
       "    </tr>\n",
       "    <tr>\n",
       "      <th>1</th>\n",
       "      <td>0</td>\n",
       "      <td>0</td>\n",
       "      <td>0</td>\n",
       "      <td>0</td>\n",
       "      <td>0</td>\n",
       "      <td>0</td>\n",
       "      <td>0</td>\n",
       "      <td>0</td>\n",
       "      <td>0</td>\n",
       "      <td>0</td>\n",
       "      <td>...</td>\n",
       "      <td>6.77</td>\n",
       "      <td>534.4</td>\n",
       "      <td>1046.9</td>\n",
       "      <td>1948.8</td>\n",
       "      <td>55.0</td>\n",
       "      <td>2.42</td>\n",
       "      <td>1.84</td>\n",
       "      <td>1.12</td>\n",
       "      <td>1.020</td>\n",
       "      <td>72.0</td>\n",
       "    </tr>\n",
       "    <tr>\n",
       "      <th>2</th>\n",
       "      <td>0</td>\n",
       "      <td>0</td>\n",
       "      <td>0</td>\n",
       "      <td>0</td>\n",
       "      <td>0</td>\n",
       "      <td>0</td>\n",
       "      <td>0</td>\n",
       "      <td>0</td>\n",
       "      <td>0</td>\n",
       "      <td>0</td>\n",
       "      <td>...</td>\n",
       "      <td>6.77</td>\n",
       "      <td>528.1</td>\n",
       "      <td>1017.9</td>\n",
       "      <td>2086.4</td>\n",
       "      <td>92.8</td>\n",
       "      <td>2.40</td>\n",
       "      <td>1.90</td>\n",
       "      <td>1.13</td>\n",
       "      <td>0.990</td>\n",
       "      <td>73.9</td>\n",
       "    </tr>\n",
       "    <tr>\n",
       "      <th>3</th>\n",
       "      <td>0</td>\n",
       "      <td>0</td>\n",
       "      <td>0</td>\n",
       "      <td>0</td>\n",
       "      <td>0</td>\n",
       "      <td>0</td>\n",
       "      <td>0</td>\n",
       "      <td>0</td>\n",
       "      <td>0</td>\n",
       "      <td>0</td>\n",
       "      <td>...</td>\n",
       "      <td>7.01</td>\n",
       "      <td>533.1</td>\n",
       "      <td>1034.3</td>\n",
       "      <td>2132.3</td>\n",
       "      <td>184.9</td>\n",
       "      <td>2.39</td>\n",
       "      <td>1.88</td>\n",
       "      <td>1.14</td>\n",
       "      <td>0.983</td>\n",
       "      <td>71.1</td>\n",
       "    </tr>\n",
       "    <tr>\n",
       "      <th>4</th>\n",
       "      <td>0</td>\n",
       "      <td>0</td>\n",
       "      <td>0</td>\n",
       "      <td>0</td>\n",
       "      <td>0</td>\n",
       "      <td>0</td>\n",
       "      <td>0</td>\n",
       "      <td>0</td>\n",
       "      <td>0</td>\n",
       "      <td>0</td>\n",
       "      <td>...</td>\n",
       "      <td>7.52</td>\n",
       "      <td>544.5</td>\n",
       "      <td>1068.1</td>\n",
       "      <td>2257.8</td>\n",
       "      <td>15.6</td>\n",
       "      <td>2.36</td>\n",
       "      <td>1.85</td>\n",
       "      <td>1.17</td>\n",
       "      <td>0.958</td>\n",
       "      <td>69.5</td>\n",
       "    </tr>\n",
       "  </tbody>\n",
       "</table>\n",
       "<p>5 rows × 2291 columns</p>\n",
       "</div>"
      ],
      "text/plain": [
       "   ECFP-1  ECFP-2  ECFP-3  ECFP-4  ECFP-5  ECFP-6  ECFP-7  ECFP-8  ECFP-9  \\\n",
       "0       0       0       0       0       0       0       0       0       0   \n",
       "1       0       0       0       0       0       0       0       0       0   \n",
       "2       0       0       0       0       0       0       0       0       0   \n",
       "3       0       0       0       0       0       0       0       0       0   \n",
       "4       0       0       0       0       0       0       0       0       0   \n",
       "\n",
       "   ECFP-10  ...  Density_metal  (g/cm3)  First IE_metal  (kJ/mol)  \\\n",
       "0        0  ...                    6.16                     538.1   \n",
       "1        0  ...                    6.77                     534.4   \n",
       "2        0  ...                    6.77                     528.1   \n",
       "3        0  ...                    7.01                     533.1   \n",
       "4        0  ...                    7.52                     544.5   \n",
       "\n",
       "   Second IE_metal  (kJ/mol)  Third IE_metal  (kJ/mol)  \\\n",
       "0                     1067.0                    1850.3   \n",
       "1                     1046.9                    1948.8   \n",
       "2                     1017.9                    2086.4   \n",
       "3                     1034.3                    2132.3   \n",
       "4                     1068.1                    2257.8   \n",
       "\n",
       "   Electron Affinity_metal  (kJ/mol)  Atomic Radius_metal   \\\n",
       "0                               48.0                  1.87   \n",
       "1                               55.0                  2.42   \n",
       "2                               92.8                  2.40   \n",
       "3                              184.9                  2.39   \n",
       "4                               15.6                  2.36   \n",
       "\n",
       "   Covalent Radius_metal   Pauling EN_metal   Ionic Radius_metal   \\\n",
       "0                    2.08               1.10                1.030   \n",
       "1                    1.84               1.12                1.020   \n",
       "2                    1.90               1.13                0.990   \n",
       "3                    1.88               1.14                0.983   \n",
       "4                    1.85               1.17                0.958   \n",
       "\n",
       "   Standard Entropy_metal (J/mol.K)  \n",
       "0                              56.9  \n",
       "1                              72.0  \n",
       "2                              73.9  \n",
       "3                              71.1  \n",
       "4                              69.5  \n",
       "\n",
       "[5 rows x 2291 columns]"
      ]
     },
     "execution_count": 7,
     "metadata": {},
     "output_type": "execute_result"
    }
   ],
   "source": [
    "X_Train = Training_Dataset.iloc[:, 0:2291]\n",
    "y_train = Training_Dataset.iloc[:, 2291]\n",
    "X_Validation = Validation_Dataset.iloc[:, 0:2291]\n",
    "y_Validation = Validation_Dataset.iloc[:, 2291]\n",
    "\n",
    "X_Train.head()"
   ]
  },
  {
   "cell_type": "code",
   "execution_count": 8,
   "metadata": {
    "colab": {
     "base_uri": "https://localhost:8080/"
    },
    "id": "439Dp_5xefmP",
    "outputId": "bef7cead-97b1-46e0-c6cd-e13e949f67fd"
   },
   "outputs": [
    {
     "data": {
      "text/plain": [
       "array([ 0.  ,  0.  ,  0.  , ...,  1.1 ,  1.03, 56.9 ])"
      ]
     },
     "execution_count": 8,
     "metadata": {},
     "output_type": "execute_result"
    }
   ],
   "source": [
    "X_Train_arr = X_Train.to_numpy()\n",
    "y_Train_arr = y_train.to_numpy()\n",
    "X_Validation_arr = X_Validation.to_numpy()\n",
    "y_Validation_arr = y_Validation.to_numpy()\n",
    "\n",
    "X_Train_arr[0]"
   ]
  },
  {
   "cell_type": "code",
   "execution_count": 9,
   "metadata": {
    "colab": {
     "base_uri": "https://localhost:8080/"
    },
    "id": "X6QTEHGEfy_I",
    "outputId": "4280798c-4006-4582-c5f8-520f330b608c"
   },
   "outputs": [
    {
     "data": {
      "text/plain": [
       "0.477121255"
      ]
     },
     "execution_count": 9,
     "metadata": {},
     "output_type": "execute_result"
    }
   ],
   "source": [
    "y_Train_arr[0]"
   ]
  },
  {
   "cell_type": "code",
   "execution_count": 10,
   "metadata": {
    "colab": {
     "base_uri": "https://localhost:8080/"
    },
    "id": "fSYPv9FAvmcP",
    "outputId": "a58f77c6-8d94-40b2-d1e2-b87b897a7140"
   },
   "outputs": [
    {
     "data": {
      "text/plain": [
       "(1085,)"
      ]
     },
     "execution_count": 10,
     "metadata": {},
     "output_type": "execute_result"
    }
   ],
   "source": [
    "y_Train_arr.shape"
   ]
  },
  {
   "cell_type": "markdown",
   "metadata": {
    "id": "N5n4q9St-cHc"
   },
   "source": [
    "# Build and train the model"
   ]
  },
  {
   "cell_type": "code",
   "execution_count": 11,
   "metadata": {
    "id": "DpNUXN3D8cut"
   },
   "outputs": [
    {
     "name": "stderr",
     "output_type": "stream",
     "text": [
      "C:\\Users\\26070\\anaconda3\\Lib\\site-packages\\keras\\src\\layers\\reshaping\\flatten.py:37: UserWarning: Do not pass an `input_shape`/`input_dim` argument to a layer. When using Sequential models, prefer using an `Input(shape)` object as the first layer in the model instead.\n",
      "  super().__init__(**kwargs)\n"
     ]
    }
   ],
   "source": [
    "# Build the model (sequential)\n",
    "\n",
    "model = keras.models.Sequential()\n",
    "model.add(keras.layers.Flatten(input_shape=[2291]))\n",
    "model.add(keras.layers.Dense(512, activation=\"relu\", kernel_initializer='normal', kernel_regularizer='l2'))\n",
    "model.add(keras.layers.Dense(128, activation=\"relu\", kernel_initializer='normal', kernel_regularizer='l2'))\n",
    "model.add(keras.layers.Dense(16, activation=\"relu\", kernel_initializer='normal', kernel_regularizer='l2'))\n",
    "#model.add(keras.layers.Dense(1, activation=\"softmax\", kernel_initializer='normal'))\n",
    "model.add(keras.layers.Dense(1, kernel_initializer='normal'))"
   ]
  },
  {
   "cell_type": "code",
   "execution_count": 12,
   "metadata": {
    "id": "pTBy58S79MLi"
   },
   "outputs": [],
   "source": [
    "# Compile the model\n",
    "opt = keras.optimizers.SGD(learning_rate=0.00001)  # learning rate can be changed to increase the performance of the model\n",
    "#model.compile(loss=\"sparse_categorical_crossentropy\", optimizer=opt, metrics=[\"accuracy\"])\n",
    "#metrics = keras.metrics.RootMeanSquaredError(name=\"root_mean_squared_error\", dtype=None)\n",
    "#model.compile(loss=\"mean_absolute_error\", optimizer=opt, metrics=[\"mean_squared_error\"])\n",
    "model.compile(loss=\"mean_absolute_error\", optimizer=opt, metrics=[keras.metrics.RootMeanSquaredError()])"
   ]
  },
  {
   "cell_type": "markdown",
   "metadata": {
    "id": "jt8jteAElY2k"
   },
   "source": [
    "Then we will start to train the model by calling model.fit() and save the model by calling model.save(). More information about these two functions are in the Keras doc: https://keras.io/api/models/."
   ]
  },
  {
   "cell_type": "code",
   "execution_count": 13,
   "metadata": {
    "colab": {
     "base_uri": "https://localhost:8080/"
    },
    "id": "C8nzH0GO-lvi",
    "outputId": "d57e62ee-b7db-4f3c-cc57-db37ee258ecf"
   },
   "outputs": [
    {
     "name": "stdout",
     "output_type": "stream",
     "text": [
      "Epoch 1/5000\n",
      "\u001b[1m34/34\u001b[0m \u001b[32m━━━━━━━━━━━━━━━━━━━━\u001b[0m\u001b[37m\u001b[0m \u001b[1m2s\u001b[0m 25ms/step - loss: 33.3424 - root_mean_squared_error: 2.8586 - val_loss: 32.5498 - val_root_mean_squared_error: 1.9509\n",
      "Epoch 2/5000\n",
      "\u001b[1m34/34\u001b[0m \u001b[32m━━━━━━━━━━━━━━━━━━━━\u001b[0m\u001b[37m\u001b[0m \u001b[1m1s\u001b[0m 17ms/step - loss: 32.5285 - root_mean_squared_error: 1.8424 - val_loss: 32.3879 - val_root_mean_squared_error: 1.6439\n",
      "Epoch 3/5000\n",
      "\u001b[1m34/34\u001b[0m \u001b[32m━━━━━━━━━━━━━━━━━━━━\u001b[0m\u001b[37m\u001b[0m \u001b[1m1s\u001b[0m 18ms/step - loss: 32.3804 - root_mean_squared_error: 1.6664 - val_loss: 32.2840 - val_root_mean_squared_error: 1.5198\n",
      "Epoch 4/5000\n",
      "\u001b[1m34/34\u001b[0m \u001b[32m━━━━━━━━━━━━━━━━━━━━\u001b[0m\u001b[37m\u001b[0m \u001b[1m1s\u001b[0m 22ms/step - loss: 32.2946 - root_mean_squared_error: 1.5905 - val_loss: 32.1418 - val_root_mean_squared_error: 1.4305\n",
      "Epoch 5/5000\n",
      "\u001b[1m34/34\u001b[0m \u001b[32m━━━━━━━━━━━━━━━━━━━━\u001b[0m\u001b[37m\u001b[0m \u001b[1m2s\u001b[0m 25ms/step - loss: 32.1284 - root_mean_squared_error: 1.3938 - val_loss: 32.0908 - val_root_mean_squared_error: 1.3093\n",
      "Epoch 6/5000\n",
      "\u001b[1m34/34\u001b[0m \u001b[32m━━━━━━━━━━━━━━━━━━━━\u001b[0m\u001b[37m\u001b[0m \u001b[1m1s\u001b[0m 15ms/step - loss: 32.0410 - root_mean_squared_error: 1.3096 - val_loss: 31.9756 - val_root_mean_squared_error: 1.2237\n",
      "Epoch 7/5000\n",
      "\u001b[1m34/34\u001b[0m \u001b[32m━━━━━━━━━━━━━━━━━━━━\u001b[0m\u001b[37m\u001b[0m \u001b[1m1s\u001b[0m 38ms/step - loss: 31.9890 - root_mean_squared_error: 1.2610 - val_loss: 32.0891 - val_root_mean_squared_error: 1.3075\n",
      "Epoch 8/5000\n",
      "\u001b[1m34/34\u001b[0m \u001b[32m━━━━━━━━━━━━━━━━━━━━\u001b[0m\u001b[37m\u001b[0m \u001b[1m1s\u001b[0m 17ms/step - loss: 31.9742 - root_mean_squared_error: 1.2390 - val_loss: 31.9085 - val_root_mean_squared_error: 1.1534\n",
      "Epoch 9/5000\n",
      "\u001b[1m34/34\u001b[0m \u001b[32m━━━━━━━━━━━━━━━━━━━━\u001b[0m\u001b[37m\u001b[0m \u001b[1m1s\u001b[0m 15ms/step - loss: 31.9893 - root_mean_squared_error: 1.2634 - val_loss: 31.8949 - val_root_mean_squared_error: 1.1368\n",
      "Epoch 10/5000\n",
      "\u001b[1m34/34\u001b[0m \u001b[32m━━━━━━━━━━━━━━━━━━━━\u001b[0m\u001b[37m\u001b[0m \u001b[1m1s\u001b[0m 18ms/step - loss: 32.0155 - root_mean_squared_error: 1.3229 - val_loss: 32.1085 - val_root_mean_squared_error: 1.3375\n",
      "Epoch 11/5000\n",
      "\u001b[1m34/34\u001b[0m \u001b[32m━━━━━━━━━━━━━━━━━━━━\u001b[0m\u001b[37m\u001b[0m \u001b[1m1s\u001b[0m 15ms/step - loss: 31.9849 - root_mean_squared_error: 1.2435 - val_loss: 31.8713 - val_root_mean_squared_error: 1.1182\n",
      "Epoch 12/5000\n",
      "\u001b[1m34/34\u001b[0m \u001b[32m━━━━━━━━━━━━━━━━━━━━\u001b[0m\u001b[37m\u001b[0m \u001b[1m1s\u001b[0m 29ms/step - loss: 31.9699 - root_mean_squared_error: 1.2477 - val_loss: 31.8881 - val_root_mean_squared_error: 1.1229\n",
      "Epoch 13/5000\n",
      "\u001b[1m10/34\u001b[0m \u001b[32m━━━━━\u001b[0m\u001b[37m━━━━━━━━━━━━━━━\u001b[0m \u001b[1m0s\u001b[0m 22ms/step - loss: 31.8804 - root_mean_squared_error: 1.1380"
     ]
    },
    {
     "ename": "KeyboardInterrupt",
     "evalue": "",
     "output_type": "error",
     "traceback": [
      "\u001b[1;31m---------------------------------------------------------------------------\u001b[0m",
      "\u001b[1;31mKeyboardInterrupt\u001b[0m                         Traceback (most recent call last)",
      "Cell \u001b[1;32mIn[13], line 2\u001b[0m\n\u001b[0;32m      1\u001b[0m \u001b[38;5;66;03m# Train the model\u001b[39;00m\n\u001b[1;32m----> 2\u001b[0m history \u001b[38;5;241m=\u001b[39m model\u001b[38;5;241m.\u001b[39mfit(X_Train_arr, y_Train_arr, epochs\u001b[38;5;241m=\u001b[39m\u001b[38;5;241m5000\u001b[39m, validation_data\u001b[38;5;241m=\u001b[39m[X_Validation_arr, y_Validation_arr])\n",
      "File \u001b[1;32m~\\anaconda3\\Lib\\site-packages\\keras\\src\\utils\\traceback_utils.py:117\u001b[0m, in \u001b[0;36mfilter_traceback.<locals>.error_handler\u001b[1;34m(*args, **kwargs)\u001b[0m\n\u001b[0;32m    115\u001b[0m filtered_tb \u001b[38;5;241m=\u001b[39m \u001b[38;5;28;01mNone\u001b[39;00m\n\u001b[0;32m    116\u001b[0m \u001b[38;5;28;01mtry\u001b[39;00m:\n\u001b[1;32m--> 117\u001b[0m     \u001b[38;5;28;01mreturn\u001b[39;00m fn(\u001b[38;5;241m*\u001b[39margs, \u001b[38;5;241m*\u001b[39m\u001b[38;5;241m*\u001b[39mkwargs)\n\u001b[0;32m    118\u001b[0m \u001b[38;5;28;01mexcept\u001b[39;00m \u001b[38;5;167;01mException\u001b[39;00m \u001b[38;5;28;01mas\u001b[39;00m e:\n\u001b[0;32m    119\u001b[0m     filtered_tb \u001b[38;5;241m=\u001b[39m _process_traceback_frames(e\u001b[38;5;241m.\u001b[39m__traceback__)\n",
      "File \u001b[1;32m~\\anaconda3\\Lib\\site-packages\\keras\\src\\backend\\tensorflow\\trainer.py:318\u001b[0m, in \u001b[0;36mTensorFlowTrainer.fit\u001b[1;34m(self, x, y, batch_size, epochs, verbose, callbacks, validation_split, validation_data, shuffle, class_weight, sample_weight, initial_epoch, steps_per_epoch, validation_steps, validation_batch_size, validation_freq)\u001b[0m\n\u001b[0;32m    316\u001b[0m \u001b[38;5;28;01mfor\u001b[39;00m step, iterator \u001b[38;5;129;01min\u001b[39;00m epoch_iterator\u001b[38;5;241m.\u001b[39menumerate_epoch():\n\u001b[0;32m    317\u001b[0m     callbacks\u001b[38;5;241m.\u001b[39mon_train_batch_begin(step)\n\u001b[1;32m--> 318\u001b[0m     logs \u001b[38;5;241m=\u001b[39m \u001b[38;5;28mself\u001b[39m\u001b[38;5;241m.\u001b[39mtrain_function(iterator)\n\u001b[0;32m    319\u001b[0m     logs \u001b[38;5;241m=\u001b[39m \u001b[38;5;28mself\u001b[39m\u001b[38;5;241m.\u001b[39m_pythonify_logs(logs)\n\u001b[0;32m    320\u001b[0m     callbacks\u001b[38;5;241m.\u001b[39mon_train_batch_end(step, logs)\n",
      "File \u001b[1;32m~\\anaconda3\\Lib\\site-packages\\tensorflow\\python\\util\\traceback_utils.py:150\u001b[0m, in \u001b[0;36mfilter_traceback.<locals>.error_handler\u001b[1;34m(*args, **kwargs)\u001b[0m\n\u001b[0;32m    148\u001b[0m filtered_tb \u001b[38;5;241m=\u001b[39m \u001b[38;5;28;01mNone\u001b[39;00m\n\u001b[0;32m    149\u001b[0m \u001b[38;5;28;01mtry\u001b[39;00m:\n\u001b[1;32m--> 150\u001b[0m   \u001b[38;5;28;01mreturn\u001b[39;00m fn(\u001b[38;5;241m*\u001b[39margs, \u001b[38;5;241m*\u001b[39m\u001b[38;5;241m*\u001b[39mkwargs)\n\u001b[0;32m    151\u001b[0m \u001b[38;5;28;01mexcept\u001b[39;00m \u001b[38;5;167;01mException\u001b[39;00m \u001b[38;5;28;01mas\u001b[39;00m e:\n\u001b[0;32m    152\u001b[0m   filtered_tb \u001b[38;5;241m=\u001b[39m _process_traceback_frames(e\u001b[38;5;241m.\u001b[39m__traceback__)\n",
      "File \u001b[1;32m~\\anaconda3\\Lib\\site-packages\\tensorflow\\python\\eager\\polymorphic_function\\polymorphic_function.py:833\u001b[0m, in \u001b[0;36mFunction.__call__\u001b[1;34m(self, *args, **kwds)\u001b[0m\n\u001b[0;32m    830\u001b[0m compiler \u001b[38;5;241m=\u001b[39m \u001b[38;5;124m\"\u001b[39m\u001b[38;5;124mxla\u001b[39m\u001b[38;5;124m\"\u001b[39m \u001b[38;5;28;01mif\u001b[39;00m \u001b[38;5;28mself\u001b[39m\u001b[38;5;241m.\u001b[39m_jit_compile \u001b[38;5;28;01melse\u001b[39;00m \u001b[38;5;124m\"\u001b[39m\u001b[38;5;124mnonXla\u001b[39m\u001b[38;5;124m\"\u001b[39m\n\u001b[0;32m    832\u001b[0m \u001b[38;5;28;01mwith\u001b[39;00m OptionalXlaContext(\u001b[38;5;28mself\u001b[39m\u001b[38;5;241m.\u001b[39m_jit_compile):\n\u001b[1;32m--> 833\u001b[0m   result \u001b[38;5;241m=\u001b[39m \u001b[38;5;28mself\u001b[39m\u001b[38;5;241m.\u001b[39m_call(\u001b[38;5;241m*\u001b[39margs, \u001b[38;5;241m*\u001b[39m\u001b[38;5;241m*\u001b[39mkwds)\n\u001b[0;32m    835\u001b[0m new_tracing_count \u001b[38;5;241m=\u001b[39m \u001b[38;5;28mself\u001b[39m\u001b[38;5;241m.\u001b[39mexperimental_get_tracing_count()\n\u001b[0;32m    836\u001b[0m without_tracing \u001b[38;5;241m=\u001b[39m (tracing_count \u001b[38;5;241m==\u001b[39m new_tracing_count)\n",
      "File \u001b[1;32m~\\anaconda3\\Lib\\site-packages\\tensorflow\\python\\eager\\polymorphic_function\\polymorphic_function.py:878\u001b[0m, in \u001b[0;36mFunction._call\u001b[1;34m(self, *args, **kwds)\u001b[0m\n\u001b[0;32m    875\u001b[0m \u001b[38;5;28mself\u001b[39m\u001b[38;5;241m.\u001b[39m_lock\u001b[38;5;241m.\u001b[39mrelease()\n\u001b[0;32m    876\u001b[0m \u001b[38;5;66;03m# In this case we have not created variables on the first call. So we can\u001b[39;00m\n\u001b[0;32m    877\u001b[0m \u001b[38;5;66;03m# run the first trace but we should fail if variables are created.\u001b[39;00m\n\u001b[1;32m--> 878\u001b[0m results \u001b[38;5;241m=\u001b[39m tracing_compilation\u001b[38;5;241m.\u001b[39mcall_function(\n\u001b[0;32m    879\u001b[0m     args, kwds, \u001b[38;5;28mself\u001b[39m\u001b[38;5;241m.\u001b[39m_variable_creation_config\n\u001b[0;32m    880\u001b[0m )\n\u001b[0;32m    881\u001b[0m \u001b[38;5;28;01mif\u001b[39;00m \u001b[38;5;28mself\u001b[39m\u001b[38;5;241m.\u001b[39m_created_variables:\n\u001b[0;32m    882\u001b[0m   \u001b[38;5;28;01mraise\u001b[39;00m \u001b[38;5;167;01mValueError\u001b[39;00m(\u001b[38;5;124m\"\u001b[39m\u001b[38;5;124mCreating variables on a non-first call to a function\u001b[39m\u001b[38;5;124m\"\u001b[39m\n\u001b[0;32m    883\u001b[0m                    \u001b[38;5;124m\"\u001b[39m\u001b[38;5;124m decorated with tf.function.\u001b[39m\u001b[38;5;124m\"\u001b[39m)\n",
      "File \u001b[1;32m~\\anaconda3\\Lib\\site-packages\\tensorflow\\python\\eager\\polymorphic_function\\tracing_compilation.py:139\u001b[0m, in \u001b[0;36mcall_function\u001b[1;34m(args, kwargs, tracing_options)\u001b[0m\n\u001b[0;32m    137\u001b[0m bound_args \u001b[38;5;241m=\u001b[39m function\u001b[38;5;241m.\u001b[39mfunction_type\u001b[38;5;241m.\u001b[39mbind(\u001b[38;5;241m*\u001b[39margs, \u001b[38;5;241m*\u001b[39m\u001b[38;5;241m*\u001b[39mkwargs)\n\u001b[0;32m    138\u001b[0m flat_inputs \u001b[38;5;241m=\u001b[39m function\u001b[38;5;241m.\u001b[39mfunction_type\u001b[38;5;241m.\u001b[39munpack_inputs(bound_args)\n\u001b[1;32m--> 139\u001b[0m \u001b[38;5;28;01mreturn\u001b[39;00m function\u001b[38;5;241m.\u001b[39m_call_flat(  \u001b[38;5;66;03m# pylint: disable=protected-access\u001b[39;00m\n\u001b[0;32m    140\u001b[0m     flat_inputs, captured_inputs\u001b[38;5;241m=\u001b[39mfunction\u001b[38;5;241m.\u001b[39mcaptured_inputs\n\u001b[0;32m    141\u001b[0m )\n",
      "File \u001b[1;32m~\\anaconda3\\Lib\\site-packages\\tensorflow\\python\\eager\\polymorphic_function\\concrete_function.py:1322\u001b[0m, in \u001b[0;36mConcreteFunction._call_flat\u001b[1;34m(self, tensor_inputs, captured_inputs)\u001b[0m\n\u001b[0;32m   1318\u001b[0m possible_gradient_type \u001b[38;5;241m=\u001b[39m gradients_util\u001b[38;5;241m.\u001b[39mPossibleTapeGradientTypes(args)\n\u001b[0;32m   1319\u001b[0m \u001b[38;5;28;01mif\u001b[39;00m (possible_gradient_type \u001b[38;5;241m==\u001b[39m gradients_util\u001b[38;5;241m.\u001b[39mPOSSIBLE_GRADIENT_TYPES_NONE\n\u001b[0;32m   1320\u001b[0m     \u001b[38;5;129;01mand\u001b[39;00m executing_eagerly):\n\u001b[0;32m   1321\u001b[0m   \u001b[38;5;66;03m# No tape is watching; skip to running the function.\u001b[39;00m\n\u001b[1;32m-> 1322\u001b[0m   \u001b[38;5;28;01mreturn\u001b[39;00m \u001b[38;5;28mself\u001b[39m\u001b[38;5;241m.\u001b[39m_inference_function\u001b[38;5;241m.\u001b[39mcall_preflattened(args)\n\u001b[0;32m   1323\u001b[0m forward_backward \u001b[38;5;241m=\u001b[39m \u001b[38;5;28mself\u001b[39m\u001b[38;5;241m.\u001b[39m_select_forward_and_backward_functions(\n\u001b[0;32m   1324\u001b[0m     args,\n\u001b[0;32m   1325\u001b[0m     possible_gradient_type,\n\u001b[0;32m   1326\u001b[0m     executing_eagerly)\n\u001b[0;32m   1327\u001b[0m forward_function, args_with_tangents \u001b[38;5;241m=\u001b[39m forward_backward\u001b[38;5;241m.\u001b[39mforward()\n",
      "File \u001b[1;32m~\\anaconda3\\Lib\\site-packages\\tensorflow\\python\\eager\\polymorphic_function\\atomic_function.py:216\u001b[0m, in \u001b[0;36mAtomicFunction.call_preflattened\u001b[1;34m(self, args)\u001b[0m\n\u001b[0;32m    214\u001b[0m \u001b[38;5;28;01mdef\u001b[39;00m \u001b[38;5;21mcall_preflattened\u001b[39m(\u001b[38;5;28mself\u001b[39m, args: Sequence[core\u001b[38;5;241m.\u001b[39mTensor]) \u001b[38;5;241m-\u001b[39m\u001b[38;5;241m>\u001b[39m Any:\n\u001b[0;32m    215\u001b[0m \u001b[38;5;250m  \u001b[39m\u001b[38;5;124;03m\"\"\"Calls with flattened tensor inputs and returns the structured output.\"\"\"\u001b[39;00m\n\u001b[1;32m--> 216\u001b[0m   flat_outputs \u001b[38;5;241m=\u001b[39m \u001b[38;5;28mself\u001b[39m\u001b[38;5;241m.\u001b[39mcall_flat(\u001b[38;5;241m*\u001b[39margs)\n\u001b[0;32m    217\u001b[0m   \u001b[38;5;28;01mreturn\u001b[39;00m \u001b[38;5;28mself\u001b[39m\u001b[38;5;241m.\u001b[39mfunction_type\u001b[38;5;241m.\u001b[39mpack_output(flat_outputs)\n",
      "File \u001b[1;32m~\\anaconda3\\Lib\\site-packages\\tensorflow\\python\\eager\\polymorphic_function\\atomic_function.py:251\u001b[0m, in \u001b[0;36mAtomicFunction.call_flat\u001b[1;34m(self, *args)\u001b[0m\n\u001b[0;32m    249\u001b[0m \u001b[38;5;28;01mwith\u001b[39;00m record\u001b[38;5;241m.\u001b[39mstop_recording():\n\u001b[0;32m    250\u001b[0m   \u001b[38;5;28;01mif\u001b[39;00m \u001b[38;5;28mself\u001b[39m\u001b[38;5;241m.\u001b[39m_bound_context\u001b[38;5;241m.\u001b[39mexecuting_eagerly():\n\u001b[1;32m--> 251\u001b[0m     outputs \u001b[38;5;241m=\u001b[39m \u001b[38;5;28mself\u001b[39m\u001b[38;5;241m.\u001b[39m_bound_context\u001b[38;5;241m.\u001b[39mcall_function(\n\u001b[0;32m    252\u001b[0m         \u001b[38;5;28mself\u001b[39m\u001b[38;5;241m.\u001b[39mname,\n\u001b[0;32m    253\u001b[0m         \u001b[38;5;28mlist\u001b[39m(args),\n\u001b[0;32m    254\u001b[0m         \u001b[38;5;28mlen\u001b[39m(\u001b[38;5;28mself\u001b[39m\u001b[38;5;241m.\u001b[39mfunction_type\u001b[38;5;241m.\u001b[39mflat_outputs),\n\u001b[0;32m    255\u001b[0m     )\n\u001b[0;32m    256\u001b[0m   \u001b[38;5;28;01melse\u001b[39;00m:\n\u001b[0;32m    257\u001b[0m     outputs \u001b[38;5;241m=\u001b[39m make_call_op_in_graph(\n\u001b[0;32m    258\u001b[0m         \u001b[38;5;28mself\u001b[39m,\n\u001b[0;32m    259\u001b[0m         \u001b[38;5;28mlist\u001b[39m(args),\n\u001b[0;32m    260\u001b[0m         \u001b[38;5;28mself\u001b[39m\u001b[38;5;241m.\u001b[39m_bound_context\u001b[38;5;241m.\u001b[39mfunction_call_options\u001b[38;5;241m.\u001b[39mas_attrs(),\n\u001b[0;32m    261\u001b[0m     )\n",
      "File \u001b[1;32m~\\anaconda3\\Lib\\site-packages\\tensorflow\\python\\eager\\context.py:1552\u001b[0m, in \u001b[0;36mContext.call_function\u001b[1;34m(self, name, tensor_inputs, num_outputs)\u001b[0m\n\u001b[0;32m   1550\u001b[0m cancellation_context \u001b[38;5;241m=\u001b[39m cancellation\u001b[38;5;241m.\u001b[39mcontext()\n\u001b[0;32m   1551\u001b[0m \u001b[38;5;28;01mif\u001b[39;00m cancellation_context \u001b[38;5;129;01mis\u001b[39;00m \u001b[38;5;28;01mNone\u001b[39;00m:\n\u001b[1;32m-> 1552\u001b[0m   outputs \u001b[38;5;241m=\u001b[39m execute\u001b[38;5;241m.\u001b[39mexecute(\n\u001b[0;32m   1553\u001b[0m       name\u001b[38;5;241m.\u001b[39mdecode(\u001b[38;5;124m\"\u001b[39m\u001b[38;5;124mutf-8\u001b[39m\u001b[38;5;124m\"\u001b[39m),\n\u001b[0;32m   1554\u001b[0m       num_outputs\u001b[38;5;241m=\u001b[39mnum_outputs,\n\u001b[0;32m   1555\u001b[0m       inputs\u001b[38;5;241m=\u001b[39mtensor_inputs,\n\u001b[0;32m   1556\u001b[0m       attrs\u001b[38;5;241m=\u001b[39mattrs,\n\u001b[0;32m   1557\u001b[0m       ctx\u001b[38;5;241m=\u001b[39m\u001b[38;5;28mself\u001b[39m,\n\u001b[0;32m   1558\u001b[0m   )\n\u001b[0;32m   1559\u001b[0m \u001b[38;5;28;01melse\u001b[39;00m:\n\u001b[0;32m   1560\u001b[0m   outputs \u001b[38;5;241m=\u001b[39m execute\u001b[38;5;241m.\u001b[39mexecute_with_cancellation(\n\u001b[0;32m   1561\u001b[0m       name\u001b[38;5;241m.\u001b[39mdecode(\u001b[38;5;124m\"\u001b[39m\u001b[38;5;124mutf-8\u001b[39m\u001b[38;5;124m\"\u001b[39m),\n\u001b[0;32m   1562\u001b[0m       num_outputs\u001b[38;5;241m=\u001b[39mnum_outputs,\n\u001b[1;32m   (...)\u001b[0m\n\u001b[0;32m   1566\u001b[0m       cancellation_manager\u001b[38;5;241m=\u001b[39mcancellation_context,\n\u001b[0;32m   1567\u001b[0m   )\n",
      "File \u001b[1;32m~\\anaconda3\\Lib\\site-packages\\tensorflow\\python\\eager\\execute.py:53\u001b[0m, in \u001b[0;36mquick_execute\u001b[1;34m(op_name, num_outputs, inputs, attrs, ctx, name)\u001b[0m\n\u001b[0;32m     51\u001b[0m \u001b[38;5;28;01mtry\u001b[39;00m:\n\u001b[0;32m     52\u001b[0m   ctx\u001b[38;5;241m.\u001b[39mensure_initialized()\n\u001b[1;32m---> 53\u001b[0m   tensors \u001b[38;5;241m=\u001b[39m pywrap_tfe\u001b[38;5;241m.\u001b[39mTFE_Py_Execute(ctx\u001b[38;5;241m.\u001b[39m_handle, device_name, op_name,\n\u001b[0;32m     54\u001b[0m                                       inputs, attrs, num_outputs)\n\u001b[0;32m     55\u001b[0m \u001b[38;5;28;01mexcept\u001b[39;00m core\u001b[38;5;241m.\u001b[39m_NotOkStatusException \u001b[38;5;28;01mas\u001b[39;00m e:\n\u001b[0;32m     56\u001b[0m   \u001b[38;5;28;01mif\u001b[39;00m name \u001b[38;5;129;01mis\u001b[39;00m \u001b[38;5;129;01mnot\u001b[39;00m \u001b[38;5;28;01mNone\u001b[39;00m:\n",
      "\u001b[1;31mKeyboardInterrupt\u001b[0m: "
     ]
    }
   ],
   "source": [
    "# Train the model\n",
    "history = model.fit(X_Train_arr, y_Train_arr, epochs=5000, validation_data=[X_Validation_arr, y_Validation_arr])"
   ]
  },
  {
   "cell_type": "markdown",
   "metadata": {
    "id": "bEZ2X9ZY_HKF"
   },
   "source": [
    "# Evaluate the model"
   ]
  },
  {
   "cell_type": "code",
   "execution_count": null,
   "metadata": {
    "id": "2KhrA9_S9OSS"
   },
   "outputs": [],
   "source": [
    "# visualize the model structure with model.summary(). Feel free to comment out the code below to visualize the model structure\n",
    "\n",
    "# model.summary()"
   ]
  },
  {
   "cell_type": "markdown",
   "metadata": {
    "id": "gWVWXxcMGeEB"
   },
   "source": [
    "The test dataset is not used for training and validation, which means the images are new to the trained model. We will use it to get the performance of the model. The performance is acceptable because the accuracy for the test dataset is nearly the same as the accuracy for the train and validation dataset."
   ]
  },
  {
   "cell_type": "code",
   "execution_count": null,
   "metadata": {
    "colab": {
     "base_uri": "https://localhost:8080/"
    },
    "id": "KnGT-Mze_GM3",
    "outputId": "bd019a14-e296-4853-824b-e9f028d8721e"
   },
   "outputs": [
    {
     "name": "stdout",
     "output_type": "stream",
     "text": [
      "9/9 [==============================] - 0s 3ms/step - loss: 31.2576 - root_mean_squared_error: 0.9473\n"
     ]
    }
   ],
   "source": [
    "# Using test dataset to evaluate loss and accuracy for trained model\n",
    "results = model.evaluate(X_Train_arr, y_Train_arr, batch_size=128)"
   ]
  },
  {
   "cell_type": "markdown",
   "metadata": {
    "id": "EnZp9Pi0HKJW"
   },
   "source": [
    "At the end of epoch, the accuary of trainning dataset and validation dataset should be close. This is an easy way to determine if there is overfitting or not."
   ]
  },
  {
   "cell_type": "code",
   "execution_count": null,
   "metadata": {
    "colab": {
     "base_uri": "https://localhost:8080/",
     "height": 283
    },
    "id": "f1oxwxiu9nfU",
    "outputId": "a59e7959-3901-4b77-d430-202d29f8628b"
   },
   "outputs": [
    {
     "data": {
      "image/png": "[encoded data removed]",
      "text/plain": [
       "<Figure size 432x288 with 1 Axes>"
      ]
     },
     "metadata": {
      "needs_background": "light"
     },
     "output_type": "display_data"
    }
   ],
   "source": [
    "# plot accuracy vs epoch\n",
    "plt.plot(history.history['root_mean_squared_error'],'r')\n",
    "#plt.plot(history.history['val_accuracy'])\n",
    "#plt.title('model accuracy')\n",
    "plt.ylabel('RMSE')\n",
    "plt.xlabel('epoch')\n",
    "#plt.legend(['train', 'validation'], loc='upper left')\n",
    "plt.xlim([0, 5000])\n",
    "plt.ylim([0, 2])\n",
    "plt.show()"
   ]
  },
  {
   "cell_type": "markdown",
   "metadata": {
    "id": "duWBp34y_SMF"
   },
   "source": [
    "# Inference"
   ]
  },
  {
   "cell_type": "code",
   "execution_count": null,
   "metadata": {
    "colab": {
     "base_uri": "https://localhost:8080/"
    },
    "id": "xcx0cTbfp4yq",
    "outputId": "6fbd59ec-7ae2-4b09-a0ae-9e7d690c6ccc"
   },
   "outputs": [],
   "source": [
    "# Visualize one image, X_test[x]. Here we choose X_test[1]. You can choose any of the images among all test dataset (10,000 images)\n",
    "# from keras.applications.imagenet_utils import decode_predictions\n",
    "# from keras.preprocessing import image\n",
    "\n",
    "# inference_image_number = 1  # Choose the number from 0-9,999 (amount of test dataset)!\n",
    "# img1 = X_Train_arr[inference_image_number]\n",
    "# img1"
   ]
  },
  {
   "cell_type": "code",
   "execution_count": null,
   "metadata": {
    "colab": {
     "base_uri": "https://localhost:8080/"
    },
    "id": "IuNw3VOzpyf_",
    "outputId": "41e04d48-7376-468c-f521-cd5966306494"
   },
   "outputs": [],
   "source": [
    "# x = np.squeeze(X_Train_arr[inference_image_number])\n",
    "# x = np.expand_dims(x, axis=0)\n",
    "\n",
    "# # predict the X_test[1] with model.predict()\n",
    "# y_pred = model.predict(x)\n",
    "# print(\"val for each of the catogaries: \", y_pred)\n"
   ]
  },
  {
   "cell_type": "code",
   "execution_count": null,
   "metadata": {
    "id": "LGH1Lcn3OUas"
   },
   "outputs": [],
   "source": [
    "# Visualize one image, X_test[x]. Here we choose X_test[1]. You can choose any of the images among all test dataset (10,000 images)\n",
    "# from keras.applications.imagenet_utils import decode_predictions\n",
    "# from keras.preprocessing import image\n",
    "\n",
    "# inference_image_number = 1  # Choose the number from 0-9,999 (amount of test dataset)!\n",
    "# img1 = X_test[inference_image_number]\n",
    "# plt.imshow(img1)"
   ]
  },
  {
   "cell_type": "code",
   "execution_count": null,
   "metadata": {
    "colab": {
     "base_uri": "https://localhost:8080/"
    },
    "id": "3DyWVt8lJEf0",
    "outputId": "cda7a7bf-77d6-41ab-de35-989ec1346e21"
   },
   "outputs": [],
   "source": [
    "# class_label = ['T-shirt/top', 'Trouser', 'Pullover', 'Dress', 'Coat', 'Sandal', 'Shirt', 'Sneaker', 'Bag', 'Ankle boot']\n",
    "# # image process\n",
    "# x = np.squeeze(X_test_norm[inference_image_number])\n",
    "# x = np.expand_dims(x, axis=0)\n",
    "\n",
    "# # predict the X_test[1] with model.predict()\n",
    "# y_prob = model.predict(x)\n",
    "# print(\"probability for each of the catogaries: \", y_prob)\n",
    "# y_class = y_prob.argmax(axis=-1)\n",
    "# # print(\"cloth index\", y_class)\n",
    "# print(\"cloth catogaries the model predict: \", class_label[y_class[0]])"
   ]
  },
  {
   "cell_type": "code",
   "execution_count": null,
   "metadata": {
    "id": "aMgGUo7nJ7Bv"
   },
   "outputs": [],
   "source": []
  }
 ],
 "metadata": {
  "accelerator": "GPU",
  "colab": {
   "provenance": [],
   "toc_visible": true
  },
  "kernelspec": {
   "display_name": "Python 3 (ipykernel)",
   "language": "python",
   "name": "python3"
  },
  "language_info": {
   "codemirror_mode": {
    "name": "ipython",
    "version": 3
   },
   "file_extension": ".py",
   "mimetype": "text/x-python",
   "name": "python",
   "nbconvert_exporter": "python",
   "pygments_lexer": "ipython3",
   "version": "3.11.7"
  }
 },
 "nbformat": 4,
 "nbformat_minor": 4
}
