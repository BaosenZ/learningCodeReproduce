








# import packages
import tensorflow as tf
from tensorflow import keras
import numpy as np
import matplotlib
import matplotlib.pyplot as plt
import pandas as pd

print("tf version: ", tf.__version__)
print("keras version: ", keras.__version__)
print("np version: ", np.__version__)
print("matplotlib version: ", matplotlib.__version__)
print("pd version: ", pd.__version__)


# Read the excel file
Training_Dataset = pd.read_excel("au2c00122_si_002.xlsx", sheet_name='training set')
Validation_Dataset = pd.read_excel("au2c00122_si_002.xlsx", sheet_name='validation set')

Validation_Dataset.head()





X_Train = Training_Dataset.iloc[:, 0:2291]
y_train = Training_Dataset.iloc[:, 2291]
X_Validation = Validation_Dataset.iloc[:, 0:2291]
y_Validation = Validation_Dataset.iloc[:, 2291]

X_Train.head()


X_Train_arr = X_Train.to_numpy()
y_Train_arr = y_train.to_numpy()
X_Validation_arr = X_Validation.to_numpy()
y_Validation_arr = y_Validation.to_numpy()

print(X_Train_arr[0])
print(y_Train_arr[0])
print(y_Train_arr.shape)





# Build the model (sequential)

model = keras.models.Sequential()
model.add(keras.layers.Input(input_shape=[2291]))
model.add(keras.layers.Dense(512, activation="relu", kernel_initializer='normal', kernel_regularizer='l2'))
model.add(keras.layers.Dense(128, activation="relu", kernel_initializer='normal', kernel_regularizer='l2'))
model.add(keras.layers.Dense(16, activation="relu", kernel_initializer='normal', kernel_regularizer='l2'))
model.add(keras.layers.Dense(1, kernel_initializer='normal'))


# Compile the model

opt = keras.optimizers.SGD(learning_rate=0.00001)
model.compile(loss="mean_absolute_error", optimizer=opt, metrics=[keras.metrics.RootMeanSquaredError(), keras.metrics.R2Score()])


# Train the model

history = model.fit(X_Train_arr, y_Train_arr, epochs=5000, validation_data=[X_Validation_arr, y_Validation_arr]);





# visualize the model structure with model.summary().

model.summary()


# Evaluate trained model

results = model.evaluate(X_Train_arr, y_Train_arr, batch_size=128)


# plot accuracy vs epoch

plt.plot(history.history['root_mean_squared_error'],'r')
plt.title('model performance')
plt.ylabel('RMSE')
plt.xlabel('epoch')
plt.legend(['train', 'validation'], loc='upper left')
plt.xlim([0, 5000])
plt.ylim([0, 2])
plt.show()


# Save the model

model_name = "trained_model.h5"
model.save(model_name, save_format='h5')





# Load the saved model

model = keras.models.load_model(model_name, custom_objects={'metrics': metrics=[keras.metrics.RootMeanSquaredError()})


# predict using the model

x = X_Train_arr[0]
y_pred = model.predict(x)



