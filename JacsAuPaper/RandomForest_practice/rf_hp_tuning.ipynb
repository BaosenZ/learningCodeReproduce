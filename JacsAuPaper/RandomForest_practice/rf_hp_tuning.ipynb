{
 "cells": [
  {
   "cell_type": "markdown",
   "metadata": {
    "id": "FQqt4NiC9seI"
   },
   "source": [
    "# Random Forest Hyperparamter Tuning\n"
   ]
  },
  {
   "cell_type": "markdown",
   "metadata": {},
   "source": [
    "The fundamental of Random Forest (RF) model can be systematically learnt in books: Hands-on ML.., but the book only provides classifier.    \n",
    "sklearn doc is good sourse to learn random forest. \n",
    "Dr. Schrier play this: https://www.wolframcloud.com/obj/jschrier0/Published/2023.11.30_towards_better_ML.nb"
   ]
  },
  {
   "cell_type": "markdown",
   "metadata": {
    "id": "_v4BrcXf-Ha6"
   },
   "source": [
    "# Import Packages and Load Datasets"
   ]
  },
  {
   "cell_type": "code",
   "execution_count": 1,
   "metadata": {},
   "outputs": [
    {
     "name": "stdout",
     "output_type": "stream",
     "text": [
      "python version:  3.11.7\n"
     ]
    }
   ],
   "source": [
    "import platform\n",
    "print(\"python version: \", platform.python_version())"
   ]
  },
  {
   "cell_type": "code",
   "execution_count": 2,
   "metadata": {},
   "outputs": [
    {
     "name": "stdout",
     "output_type": "stream",
     "text": [
      "np version:  1.26.4\n",
      "pd version:  2.1.4\n"
     ]
    }
   ],
   "source": [
    "import numpy as np\n",
    "import pandas as pd\n",
    "\n",
    "print(\"np version: \", np.__version__)\n",
    "print(\"pd version: \", pd.__version__)"
   ]
  },
  {
   "cell_type": "code",
   "execution_count": 3,
   "metadata": {},
   "outputs": [
    {
     "name": "stdout",
     "output_type": "stream",
     "text": [
      "sklearn version:  1.2.2\n"
     ]
    }
   ],
   "source": [
    "import sklearn\n",
    "from sklearn.ensemble import RandomForestRegressor\n",
    "from sklearn.metrics import mean_squared_error, mean_absolute_error, r2_score\n",
    "# For save and load RF model\n",
    "import joblib\n",
    "# For hypterparameter tuning\n",
    "from sklearn.model_selection import GridSearchCV, RandomizedSearchCV\n",
    "\n",
    "print(\"sklearn version: \", sklearn.__version__)"
   ]
  },
  {
   "cell_type": "code",
   "execution_count": 4,
   "metadata": {
    "colab": {
     "base_uri": "https://localhost:8080/",
     "height": 334
    },
    "id": "v-dEQUerTHCH",
    "outputId": "3ae75329-2518-4610-c7f4-8c2ecf5b4827"
   },
   "outputs": [
    {
     "data": {
      "text/html": [
       "<div>\n",
       "<style scoped>\n",
       "    .dataframe tbody tr th:only-of-type {\n",
       "        vertical-align: middle;\n",
       "    }\n",
       "\n",
       "    .dataframe tbody tr th {\n",
       "        vertical-align: top;\n",
       "    }\n",
       "\n",
       "    .dataframe thead th {\n",
       "        text-align: right;\n",
       "    }\n",
       "</style>\n",
       "<table border=\"1\" class=\"dataframe\">\n",
       "  <thead>\n",
       "    <tr style=\"text-align: right;\">\n",
       "      <th></th>\n",
       "      <th>ECFP-1</th>\n",
       "      <th>ECFP-2</th>\n",
       "      <th>ECFP-3</th>\n",
       "      <th>ECFP-4</th>\n",
       "      <th>ECFP-5</th>\n",
       "      <th>ECFP-6</th>\n",
       "      <th>ECFP-7</th>\n",
       "      <th>ECFP-8</th>\n",
       "      <th>ECFP-9</th>\n",
       "      <th>ECFP-10</th>\n",
       "      <th>...</th>\n",
       "      <th>Second IE_metal  (kJ/mol)</th>\n",
       "      <th>Third IE_metal  (kJ/mol)</th>\n",
       "      <th>Electron Affinity_metal  (kJ/mol)</th>\n",
       "      <th>Atomic Radius_metal</th>\n",
       "      <th>Covalent Radius_metal</th>\n",
       "      <th>Pauling EN_metal</th>\n",
       "      <th>Ionic Radius_metal</th>\n",
       "      <th>Standard Entropy_metal (J/mol.K)</th>\n",
       "      <th>log_D</th>\n",
       "      <th>reference</th>\n",
       "    </tr>\n",
       "  </thead>\n",
       "  <tbody>\n",
       "    <tr>\n",
       "      <th>0</th>\n",
       "      <td>0</td>\n",
       "      <td>0</td>\n",
       "      <td>0</td>\n",
       "      <td>0</td>\n",
       "      <td>0</td>\n",
       "      <td>0</td>\n",
       "      <td>0</td>\n",
       "      <td>0</td>\n",
       "      <td>0</td>\n",
       "      <td>0</td>\n",
       "      <td>...</td>\n",
       "      <td>1341.1</td>\n",
       "      <td>2022.3</td>\n",
       "      <td>32.8</td>\n",
       "      <td>2.24</td>\n",
       "      <td>1.74</td>\n",
       "      <td>1.00</td>\n",
       "      <td>0.861</td>\n",
       "      <td>51.0</td>\n",
       "      <td>0.342423</td>\n",
       "      <td>1</td>\n",
       "    </tr>\n",
       "    <tr>\n",
       "      <th>1</th>\n",
       "      <td>0</td>\n",
       "      <td>0</td>\n",
       "      <td>0</td>\n",
       "      <td>0</td>\n",
       "      <td>0</td>\n",
       "      <td>0</td>\n",
       "      <td>0</td>\n",
       "      <td>0</td>\n",
       "      <td>0</td>\n",
       "      <td>0</td>\n",
       "      <td>...</td>\n",
       "      <td>1068.1</td>\n",
       "      <td>2257.8</td>\n",
       "      <td>15.6</td>\n",
       "      <td>2.36</td>\n",
       "      <td>1.85</td>\n",
       "      <td>1.17</td>\n",
       "      <td>0.958</td>\n",
       "      <td>69.5</td>\n",
       "      <td>0.505150</td>\n",
       "      <td>1</td>\n",
       "    </tr>\n",
       "    <tr>\n",
       "      <th>2</th>\n",
       "      <td>0</td>\n",
       "      <td>0</td>\n",
       "      <td>0</td>\n",
       "      <td>0</td>\n",
       "      <td>0</td>\n",
       "      <td>0</td>\n",
       "      <td>0</td>\n",
       "      <td>0</td>\n",
       "      <td>0</td>\n",
       "      <td>0</td>\n",
       "      <td>...</td>\n",
       "      <td>1166.5</td>\n",
       "      <td>1990.5</td>\n",
       "      <td>13.2</td>\n",
       "      <td>2.34</td>\n",
       "      <td>1.82</td>\n",
       "      <td>1.20</td>\n",
       "      <td>0.938</td>\n",
       "      <td>67.9</td>\n",
       "      <td>0.230449</td>\n",
       "      <td>1</td>\n",
       "    </tr>\n",
       "    <tr>\n",
       "      <th>3</th>\n",
       "      <td>0</td>\n",
       "      <td>0</td>\n",
       "      <td>0</td>\n",
       "      <td>0</td>\n",
       "      <td>0</td>\n",
       "      <td>0</td>\n",
       "      <td>0</td>\n",
       "      <td>0</td>\n",
       "      <td>0</td>\n",
       "      <td>0</td>\n",
       "      <td>...</td>\n",
       "      <td>1034.3</td>\n",
       "      <td>2132.3</td>\n",
       "      <td>184.9</td>\n",
       "      <td>2.39</td>\n",
       "      <td>1.88</td>\n",
       "      <td>1.14</td>\n",
       "      <td>0.983</td>\n",
       "      <td>71.1</td>\n",
       "      <td>0.041393</td>\n",
       "      <td>1</td>\n",
       "    </tr>\n",
       "    <tr>\n",
       "      <th>4</th>\n",
       "      <td>0</td>\n",
       "      <td>0</td>\n",
       "      <td>0</td>\n",
       "      <td>0</td>\n",
       "      <td>0</td>\n",
       "      <td>0</td>\n",
       "      <td>0</td>\n",
       "      <td>0</td>\n",
       "      <td>0</td>\n",
       "      <td>0</td>\n",
       "      <td>...</td>\n",
       "      <td>1034.3</td>\n",
       "      <td>2132.3</td>\n",
       "      <td>184.9</td>\n",
       "      <td>2.39</td>\n",
       "      <td>1.88</td>\n",
       "      <td>1.14</td>\n",
       "      <td>0.983</td>\n",
       "      <td>71.1</td>\n",
       "      <td>1.344392</td>\n",
       "      <td>2</td>\n",
       "    </tr>\n",
       "  </tbody>\n",
       "</table>\n",
       "<p>5 rows × 2293 columns</p>\n",
       "</div>"
      ],
      "text/plain": [
       "   ECFP-1  ECFP-2  ECFP-3  ECFP-4  ECFP-5  ECFP-6  ECFP-7  ECFP-8  ECFP-9  \\\n",
       "0       0       0       0       0       0       0       0       0       0   \n",
       "1       0       0       0       0       0       0       0       0       0   \n",
       "2       0       0       0       0       0       0       0       0       0   \n",
       "3       0       0       0       0       0       0       0       0       0   \n",
       "4       0       0       0       0       0       0       0       0       0   \n",
       "\n",
       "   ECFP-10  ...  Second IE_metal  (kJ/mol)  Third IE_metal  (kJ/mol)  \\\n",
       "0        0  ...                     1341.1                    2022.3   \n",
       "1        0  ...                     1068.1                    2257.8   \n",
       "2        0  ...                     1166.5                    1990.5   \n",
       "3        0  ...                     1034.3                    2132.3   \n",
       "4        0  ...                     1034.3                    2132.3   \n",
       "\n",
       "   Electron Affinity_metal  (kJ/mol)  Atomic Radius_metal   \\\n",
       "0                               32.8                  2.24   \n",
       "1                               15.6                  2.36   \n",
       "2                               13.2                  2.34   \n",
       "3                              184.9                  2.39   \n",
       "4                              184.9                  2.39   \n",
       "\n",
       "   Covalent Radius_metal   Pauling EN_metal   Ionic Radius_metal   \\\n",
       "0                    1.74               1.00                0.861   \n",
       "1                    1.85               1.17                0.958   \n",
       "2                    1.82               1.20                0.938   \n",
       "3                    1.88               1.14                0.983   \n",
       "4                    1.88               1.14                0.983   \n",
       "\n",
       "   Standard Entropy_metal (J/mol.K)     log_D  reference  \n",
       "0                              51.0  0.342423          1  \n",
       "1                              69.5  0.505150          1  \n",
       "2                              67.9  0.230449          1  \n",
       "3                              71.1  0.041393          1  \n",
       "4                              71.1  1.344392          2  \n",
       "\n",
       "[5 rows x 2293 columns]"
      ]
     },
     "execution_count": 4,
     "metadata": {},
     "output_type": "execute_result"
    }
   ],
   "source": [
    "# Read the excel file\n",
    "\n",
    "dataset_path = \"../au2c00122_si_002.xlsx\"\n",
    "train_dataset = pd.read_excel(dataset_path, sheet_name='training set')\n",
    "val_dataset = pd.read_excel(dataset_path, sheet_name='validation set')\n",
    "\n",
    "val_dataset.head()"
   ]
  },
  {
   "cell_type": "markdown",
   "metadata": {
    "id": "m32ztmLV-Q3E"
   },
   "source": [
    "# Data preparation"
   ]
  },
  {
   "cell_type": "code",
   "execution_count": 5,
   "metadata": {
    "colab": {
     "base_uri": "https://localhost:8080/",
     "height": 334
    },
    "id": "779jmkngY6ws",
    "outputId": "d9b8c403-5e47-4ae0-fa1f-1b04772f4ff3"
   },
   "outputs": [
    {
     "name": "stdout",
     "output_type": "stream",
     "text": [
      "[ 0.    0.    0.   ...  1.1   1.03 56.9 ]\n",
      "0.477121255\n",
      "(1085, 2291)\n"
     ]
    }
   ],
   "source": [
    "# Split x and y\n",
    "x_train_df = train_dataset.iloc[:, 0:2291]\n",
    "y_train_df = train_dataset.iloc[:, 2291]\n",
    "x_val_df = val_dataset.iloc[:, 0:2291]\n",
    "y_val_df = val_dataset.iloc[:, 2291]\n",
    "\n",
    "# Convert df to numpy array\n",
    "x_train = x_train_df.to_numpy()\n",
    "y_train = y_train_df.to_numpy()\n",
    "x_val = x_val_df.to_numpy()\n",
    "y_val = y_val_df.to_numpy()\n",
    "\n",
    "print(x_train[0])\n",
    "print(y_train[0])\n",
    "print(x_train.shape)"
   ]
  },
  {
   "cell_type": "markdown",
   "metadata": {},
   "source": [
    "The random forest doesn't have validation dataset. I can combine all val dataset to train set. I think this way makes more sense."
   ]
  },
  {
   "cell_type": "code",
   "execution_count": 6,
   "metadata": {},
   "outputs": [],
   "source": [
    "# # Concat x_val_df to x_train_df\n",
    "# x_train_val_df = pd.concat([x_train_df, x_val_df])\n",
    "# y_train_val_df = pd.concat([y_train_df, y_val_df])\n",
    "\n",
    "# # Convert df to numpy array\n",
    "# x_train_val = x_train_val_df.to_numpy()\n",
    "# y_train_val = y_train_val_df.to_numpy()"
   ]
  },
  {
   "cell_type": "markdown",
   "metadata": {},
   "source": [
    "# Build and train the RF model"
   ]
  },
  {
   "cell_type": "markdown",
   "metadata": {},
   "source": [
    "## hp tuning and find best model"
   ]
  },
  {
   "cell_type": "markdown",
   "metadata": {},
   "source": [
    "param_grid list: see [RandomForestRegressor doc](https://scikit-learn.org/stable/modules/generated/sklearn.ensemble.RandomForestRegressor.html)  \n",
    "GridSearchCV scoring list: https://scikit-learn.org/stable/modules/model_evaluation.html#multimetric-scoring  "
   ]
  },
  {
   "cell_type": "code",
   "execution_count": 7,
   "metadata": {},
   "outputs": [
    {
     "data": {
      "text/html": [
       "<style>#sk-container-id-1 {color: black;background-color: white;}#sk-container-id-1 pre{padding: 0;}#sk-container-id-1 div.sk-toggleable {background-color: white;}#sk-container-id-1 label.sk-toggleable__label {cursor: pointer;display: block;width: 100%;margin-bottom: 0;padding: 0.3em;box-sizing: border-box;text-align: center;}#sk-container-id-1 label.sk-toggleable__label-arrow:before {content: \"▸\";float: left;margin-right: 0.25em;color: #696969;}#sk-container-id-1 label.sk-toggleable__label-arrow:hover:before {color: black;}#sk-container-id-1 div.sk-estimator:hover label.sk-toggleable__label-arrow:before {color: black;}#sk-container-id-1 div.sk-toggleable__content {max-height: 0;max-width: 0;overflow: hidden;text-align: left;background-color: #f0f8ff;}#sk-container-id-1 div.sk-toggleable__content pre {margin: 0.2em;color: black;border-radius: 0.25em;background-color: #f0f8ff;}#sk-container-id-1 input.sk-toggleable__control:checked~div.sk-toggleable__content {max-height: 200px;max-width: 100%;overflow: auto;}#sk-container-id-1 input.sk-toggleable__control:checked~label.sk-toggleable__label-arrow:before {content: \"▾\";}#sk-container-id-1 div.sk-estimator input.sk-toggleable__control:checked~label.sk-toggleable__label {background-color: #d4ebff;}#sk-container-id-1 div.sk-label input.sk-toggleable__control:checked~label.sk-toggleable__label {background-color: #d4ebff;}#sk-container-id-1 input.sk-hidden--visually {border: 0;clip: rect(1px 1px 1px 1px);clip: rect(1px, 1px, 1px, 1px);height: 1px;margin: -1px;overflow: hidden;padding: 0;position: absolute;width: 1px;}#sk-container-id-1 div.sk-estimator {font-family: monospace;background-color: #f0f8ff;border: 1px dotted black;border-radius: 0.25em;box-sizing: border-box;margin-bottom: 0.5em;}#sk-container-id-1 div.sk-estimator:hover {background-color: #d4ebff;}#sk-container-id-1 div.sk-parallel-item::after {content: \"\";width: 100%;border-bottom: 1px solid gray;flex-grow: 1;}#sk-container-id-1 div.sk-label:hover label.sk-toggleable__label {background-color: #d4ebff;}#sk-container-id-1 div.sk-serial::before {content: \"\";position: absolute;border-left: 1px solid gray;box-sizing: border-box;top: 0;bottom: 0;left: 50%;z-index: 0;}#sk-container-id-1 div.sk-serial {display: flex;flex-direction: column;align-items: center;background-color: white;padding-right: 0.2em;padding-left: 0.2em;position: relative;}#sk-container-id-1 div.sk-item {position: relative;z-index: 1;}#sk-container-id-1 div.sk-parallel {display: flex;align-items: stretch;justify-content: center;background-color: white;position: relative;}#sk-container-id-1 div.sk-item::before, #sk-container-id-1 div.sk-parallel-item::before {content: \"\";position: absolute;border-left: 1px solid gray;box-sizing: border-box;top: 0;bottom: 0;left: 50%;z-index: -1;}#sk-container-id-1 div.sk-parallel-item {display: flex;flex-direction: column;z-index: 1;position: relative;background-color: white;}#sk-container-id-1 div.sk-parallel-item:first-child::after {align-self: flex-end;width: 50%;}#sk-container-id-1 div.sk-parallel-item:last-child::after {align-self: flex-start;width: 50%;}#sk-container-id-1 div.sk-parallel-item:only-child::after {width: 0;}#sk-container-id-1 div.sk-dashed-wrapped {border: 1px dashed gray;margin: 0 0.4em 0.5em 0.4em;box-sizing: border-box;padding-bottom: 0.4em;background-color: white;}#sk-container-id-1 div.sk-label label {font-family: monospace;font-weight: bold;display: inline-block;line-height: 1.2em;}#sk-container-id-1 div.sk-label-container {text-align: center;}#sk-container-id-1 div.sk-container {/* jupyter's `normalize.less` sets `[hidden] { display: none; }` but bootstrap.min.css set `[hidden] { display: none !important; }` so we also need the `!important` here to be able to override the default hidden behavior on the sphinx rendered scikit-learn.org. See: https://github.com/scikit-learn/scikit-learn/issues/21755 */display: inline-block !important;position: relative;}#sk-container-id-1 div.sk-text-repr-fallback {display: none;}</style><div id=\"sk-container-id-1\" class=\"sk-top-container\"><div class=\"sk-text-repr-fallback\"><pre>GridSearchCV(estimator=RandomForestRegressor(),\n",
       "             param_grid={&#x27;max_depth&#x27;: [None, 10, 20],\n",
       "                         &#x27;n_estimators&#x27;: [50, 100, 200]},\n",
       "             scoring=&#x27;neg_mean_squared_error&#x27;)</pre><b>In a Jupyter environment, please rerun this cell to show the HTML representation or trust the notebook. <br />On GitHub, the HTML representation is unable to render, please try loading this page with nbviewer.org.</b></div><div class=\"sk-container\" hidden><div class=\"sk-item sk-dashed-wrapped\"><div class=\"sk-label-container\"><div class=\"sk-label sk-toggleable\"><input class=\"sk-toggleable__control sk-hidden--visually\" id=\"sk-estimator-id-1\" type=\"checkbox\" ><label for=\"sk-estimator-id-1\" class=\"sk-toggleable__label sk-toggleable__label-arrow\">GridSearchCV</label><div class=\"sk-toggleable__content\"><pre>GridSearchCV(estimator=RandomForestRegressor(),\n",
       "             param_grid={&#x27;max_depth&#x27;: [None, 10, 20],\n",
       "                         &#x27;n_estimators&#x27;: [50, 100, 200]},\n",
       "             scoring=&#x27;neg_mean_squared_error&#x27;)</pre></div></div></div><div class=\"sk-parallel\"><div class=\"sk-parallel-item\"><div class=\"sk-item\"><div class=\"sk-label-container\"><div class=\"sk-label sk-toggleable\"><input class=\"sk-toggleable__control sk-hidden--visually\" id=\"sk-estimator-id-2\" type=\"checkbox\" ><label for=\"sk-estimator-id-2\" class=\"sk-toggleable__label sk-toggleable__label-arrow\">estimator: RandomForestRegressor</label><div class=\"sk-toggleable__content\"><pre>RandomForestRegressor()</pre></div></div></div><div class=\"sk-serial\"><div class=\"sk-item\"><div class=\"sk-estimator sk-toggleable\"><input class=\"sk-toggleable__control sk-hidden--visually\" id=\"sk-estimator-id-3\" type=\"checkbox\" ><label for=\"sk-estimator-id-3\" class=\"sk-toggleable__label sk-toggleable__label-arrow\">RandomForestRegressor</label><div class=\"sk-toggleable__content\"><pre>RandomForestRegressor()</pre></div></div></div></div></div></div></div></div></div></div>"
      ],
      "text/plain": [
       "GridSearchCV(estimator=RandomForestRegressor(),\n",
       "             param_grid={'max_depth': [None, 10, 20],\n",
       "                         'n_estimators': [50, 100, 200]},\n",
       "             scoring='neg_mean_squared_error')"
      ]
     },
     "execution_count": 7,
     "metadata": {},
     "output_type": "execute_result"
    }
   ],
   "source": [
    "regrRFmodel = RandomForestRegressor()\n",
    "\n",
    "param_grid = {\n",
    "    'n_estimators': [50, 100, 200],\n",
    "    'max_depth': [None, 10, 20]\n",
    "}\n",
    "\n",
    "grid_search = GridSearchCV(regrRFmodel, param_grid, scoring='neg_mean_squared_error')\n",
    "grid_search.fit(x_train, y_train)"
   ]
  },
  {
   "cell_type": "code",
   "execution_count": 8,
   "metadata": {},
   "outputs": [
    {
     "name": "stdout",
     "output_type": "stream",
     "text": [
      "Model saved as rf_model.sav\n"
     ]
    }
   ],
   "source": [
    "best_rf_model = grid_search.best_estimator_\n",
    "\n",
    "# Save the model to a file\n",
    "model_filename = 'rf_model.sav'\n",
    "joblib.dump(best_rf_model, model_filename)\n",
    "print(f'Model saved as {model_filename}')"
   ]
  },
  {
   "cell_type": "markdown",
   "metadata": {},
   "source": [
    "## Direct training"
   ]
  },
  {
   "cell_type": "code",
   "execution_count": 9,
   "metadata": {},
   "outputs": [],
   "source": [
    "# regrRFmodel = RandomForestRegressor(n_estimators=100, random_state=42)\n",
    "# regrRFmodel.fit(x_train, y_train)"
   ]
  },
  {
   "cell_type": "code",
   "execution_count": 10,
   "metadata": {},
   "outputs": [],
   "source": [
    "# # Save the model to a file\n",
    "# model_filename = 'rf_model.sav'\n",
    "# joblib.dump(regrRFmodel, model_filename)\n",
    "# print(f'Model saved as {model_filename}')"
   ]
  },
  {
   "cell_type": "markdown",
   "metadata": {
    "id": "bEZ2X9ZY_HKF"
   },
   "source": [
    "# Evaluate the model"
   ]
  },
  {
   "cell_type": "code",
   "execution_count": 11,
   "metadata": {},
   "outputs": [],
   "source": [
    "# Load the saved model\n",
    "\n",
    "# model_filename = 'rf_model.sav'\n",
    "loaded_rf_model = joblib.load(model_filename)"
   ]
  },
  {
   "cell_type": "code",
   "execution_count": 12,
   "metadata": {
    "colab": {
     "base_uri": "https://localhost:8080/"
    },
    "id": "KnGT-Mze_GM3",
    "outputId": "bd019a14-e296-4853-824b-e9f028d8721e"
   },
   "outputs": [
    {
     "name": "stdout",
     "output_type": "stream",
     "text": [
      "Loaded Model MAE for train dataset: 0.09096940609073476\n",
      "Loaded Model RMSE for train dataset: 0.15782631697706448\n",
      "Loaded Model R-Square for train dataset: 0.9866879780300021\n"
     ]
    }
   ],
   "source": [
    "# Evaluate trained model\n",
    "\n",
    "y_train_pred = loaded_rf_model.predict(x_train)\n",
    "\n",
    "# Evaluate the loaded model's performance\n",
    "mae_train = mean_absolute_error(y_train, y_train_pred)\n",
    "rmse_train = np.sqrt(mean_squared_error(y_train, y_train_pred))\n",
    "r2_train = r2_score(y_train, y_train_pred)\n",
    "\n",
    "print(f'Loaded Model MAE for train dataset: {mae_train}')\n",
    "print(f'Loaded Model RMSE for train dataset: {rmse_train}')\n",
    "print(f'Loaded Model R-Square for train dataset: {r2_train}')"
   ]
  },
  {
   "cell_type": "code",
   "execution_count": 13,
   "metadata": {},
   "outputs": [
    {
     "name": "stdout",
     "output_type": "stream",
     "text": [
      "Loaded Model MAE for val dataset: 0.21896613552259092\n",
      "Loaded Model RMSE for val dataset: 0.326667605304762\n",
      "Loaded Model R-Square for val dataset: 0.9425809937567444\n"
     ]
    }
   ],
   "source": [
    "# Evaluate trained model for val dataset\n",
    "\n",
    "y_val_pred = loaded_rf_model.predict(x_val)\n",
    "\n",
    "# Evaluate the loaded model's performance\n",
    "mae_val = mean_absolute_error(y_val, y_val_pred)\n",
    "rmse_val = np.sqrt(mean_squared_error(y_val, y_val_pred))\n",
    "r2_val = r2_score(y_val, y_val_pred)\n",
    "\n",
    "print(f'Loaded Model MAE for val dataset: {mae_val}')\n",
    "print(f'Loaded Model RMSE for val dataset: {rmse_val}')\n",
    "print(f'Loaded Model R-Square for val dataset: {r2_val}')"
   ]
  },
  {
   "cell_type": "code",
   "execution_count": null,
   "metadata": {},
   "outputs": [],
   "source": [
    "# # Evaluate trained model for train and val dataset\n",
    "\n",
    "# y_train_val_pred = loaded_rf_model.predict(x_train_val)\n",
    "\n",
    "# # Evaluate the loaded model's performance\n",
    "# mae_train_val = mean_absolute_error(y_train_val, y_train_val_pred)\n",
    "# rmse_train_val = np.sqrt(mean_squared_error(y_train_val, y_train_val_pred))\n",
    "# r2_train_val = r2_score(y_train_val, y_train_val_pred)\n",
    "\n",
    "# print(f'Loaded Model MAE for val dataset: {mae_train_val}')\n",
    "# print(f'Loaded Model RMSE for val dataset: {rmse_train_val}')\n",
    "# print(f'Loaded Model R-Square for val dataset: {r2_train_val}')"
   ]
  },
  {
   "cell_type": "markdown",
   "metadata": {},
   "source": [
    "### Test set evaluation"
   ]
  },
  {
   "cell_type": "code",
   "execution_count": 14,
   "metadata": {},
   "outputs": [],
   "source": [
    "dataset_path_testset = \"../au2c00122_si_002.xlsx\"\n",
    "test_dataset = pd.read_excel(dataset_path_testset, sheet_name='new ligands 1-4 as the test set')"
   ]
  },
  {
   "cell_type": "code",
   "execution_count": 15,
   "metadata": {},
   "outputs": [
    {
     "name": "stdout",
     "output_type": "stream",
     "text": [
      "[ 0.    1.    0.   ...  1.1   1.03 56.9 ]\n",
      "-2.08922\n",
      "(56, 2291)\n"
     ]
    }
   ],
   "source": [
    "# Split x and y\n",
    "x_test_df = test_dataset.iloc[:, 0:2291]\n",
    "y_test_df = test_dataset.iloc[:, 2291]\n",
    "\n",
    "# Convert df to numpy array\n",
    "x_test = x_test_df.to_numpy()\n",
    "y_test = y_test_df.to_numpy()\n",
    "\n",
    "print(x_test[0])\n",
    "print(y_test[0])\n",
    "print(x_test.shape)"
   ]
  },
  {
   "cell_type": "code",
   "execution_count": 16,
   "metadata": {},
   "outputs": [
    {
     "name": "stdout",
     "output_type": "stream",
     "text": [
      "Loaded Model MAE for test dataset: 0.470731413655982\n",
      "Loaded Model RMSE for test dataset: 0.6309515581540819\n",
      "Loaded Model R-Square for test dataset: 0.6945119298044291\n"
     ]
    }
   ],
   "source": [
    "# Evaluate trained model\n",
    "\n",
    "y_test_pred = loaded_rf_model.predict(x_test)\n",
    "\n",
    "# Evaluate the loaded model's performance\n",
    "mae_test = mean_absolute_error(y_test, y_test_pred)\n",
    "rmse_test = np.sqrt(mean_squared_error(y_test, y_test_pred))\n",
    "r2_test = r2_score(y_test, y_test_pred)\n",
    "\n",
    "print(f'Loaded Model MAE for test dataset: {mae_test}')\n",
    "print(f'Loaded Model RMSE for test dataset: {rmse_test}')\n",
    "print(f'Loaded Model R-Square for test dataset: {r2_test}')"
   ]
  },
  {
   "cell_type": "markdown",
   "metadata": {},
   "source": [
    "# Feature Importance"
   ]
  },
  {
   "cell_type": "code",
   "execution_count": 20,
   "metadata": {},
   "outputs": [
    {
     "name": "stdout",
     "output_type": "stream",
     "text": [
      "matplotlib version:  3.8.0\n"
     ]
    }
   ],
   "source": [
    "import matplotlib\n",
    "import matplotlib.pyplot as plt\n",
    "\n",
    "print(\"matplotlib version: \", matplotlib.__version__)"
   ]
  },
  {
   "cell_type": "code",
   "execution_count": 21,
   "metadata": {},
   "outputs": [
    {
     "name": "stdout",
     "output_type": "stream",
     "text": [
      "                           Feature  Importance\n",
      "2072                  BCUT2D_MRLOW    0.243431\n",
      "2049                MinEStateIndex    0.093417\n",
      "2289           Ionic Radius_metal     0.056726\n",
      "2059              MinPartialCharge    0.031517\n",
      "2070                BCUT2D_LOGPLOW    0.024079\n",
      "2274                   acid c.c./M    0.023487\n",
      "2071                   BCUT2D_MRHI    0.021665\n",
      "2277          Atomic Number_metal     0.018275\n",
      "2051             MinAbsEStateIndex    0.016780\n",
      "2278  Outer shell electrons_metal     0.016682\n"
     ]
    },
    {
     "data": {
      "image/png": "[encoded data removed]",
      "text/plain": [
       "<Figure size 1000x600 with 1 Axes>"
      ]
     },
     "metadata": {},
     "output_type": "display_data"
    }
   ],
   "source": [
    "# Get feature importances from the model\n",
    "feature_importances = loaded_rf_model.feature_importances_\n",
    "\n",
    "# If you have feature names (e.g., from a DataFrame), use them here\n",
    "# Assuming you have a DataFrame with column names for features\n",
    "feature_names = x_train_df.columns  # Uncomment this if you have feature names\n",
    "\n",
    "# If no feature names are available, you can assign generic ones\n",
    "# feature_names = [f'feature_{i}' for i in range(X.shape[1])]\n",
    "\n",
    "# Convert the importances into a DataFrame for easier visualization\n",
    "feature_importance_df = pd.DataFrame({\n",
    "    'Feature': feature_names,\n",
    "    'Importance': feature_importances\n",
    "})\n",
    "\n",
    "# Sort the DataFrame by importance, in descending order\n",
    "feature_importance_df = feature_importance_df.sort_values(by='Importance', ascending=False)\n",
    "\n",
    "# Display the top N important features (e.g., top 10)\n",
    "top_n = 10  # Change this value as needed\n",
    "print(feature_importance_df.head(top_n))\n",
    "\n",
    "# Plotting the top N important features\n",
    "plt.figure(figsize=(10, 6))\n",
    "plt.title(f\"Top {top_n} Feature Importances\")\n",
    "plt.barh(feature_importance_df['Feature'].head(top_n), feature_importance_df['Importance'].head(top_n), color='b')\n",
    "plt.xlabel(\"Feature Importance\")\n",
    "plt.gca().invert_yaxis()  # Invert y-axis to show the most important feature at the top\n",
    "plt.show()"
   ]
  },
  {
   "cell_type": "code",
   "execution_count": 26,
   "metadata": {},
   "outputs": [
    {
     "name": "stdout",
     "output_type": "stream",
     "text": [
      "                          Feature Group  Total Importance\n",
      "1                        RDkit Features          0.685482\n",
      "11              lan_features_importance          0.133036\n",
      "6         solvent_b_features_importance          0.038561\n",
      "0                  Figureprint Features          0.036097\n",
      "5         solvent_a_features_importance          0.033292\n",
      "8         acid_conc_features_importance          0.018275\n",
      "9                 T_features_importance          0.016682\n",
      "7       acid_dipole_features_importance          0.012398\n",
      "4             vol_b_features_importance          0.008152\n",
      "10         lan_conc_features_importance          0.004750\n",
      "3             vol_a_features_importance          0.000540\n",
      "2   extractant_conc_features_importance          0.000466\n"
     ]
    },
    {
     "data": {
      "image/png": "[encoded data removed]",
      "text/plain": [
       "<Figure size 800x500 with 1 Axes>"
      ]
     },
     "metadata": {},
     "output_type": "display_data"
    }
   ],
   "source": [
    "# Get feature importances from the trained model\n",
    "feature_importances = loaded_rf_model.feature_importances_\n",
    "\n",
    "# Define the group ranges (208 rdkit features and 2048 fingerprint features)\n",
    "fp_features_importance = feature_importances[:2048]\n",
    "rdkit_features_importance = feature_importances[2048:2048+208]\n",
    "extractant_conc_features_importance = feature_importances[208+2048+1]  # ligand c.c./mM\n",
    "vol_a_features_importance = feature_importances[208+2048+2]  # volume ratio of solvent a\n",
    "vol_b_features_importance = feature_importances[208+2048+3]  # volume ratio of solvent b\n",
    "solvent_a_features_importance = feature_importances[2260:2267]\n",
    "solvent_b_features_importance = feature_importances[208+2048+12:208+2048+19] # organic solvent b descriptors\n",
    "acid_dipole_features_importance = feature_importances[208+2048+20] # aicd dipole moment\n",
    "acid_conc_features_importance = feature_importances[208+2048+21]  # acid c.c./M\n",
    "T_features_importance = feature_importances[208+2048+22] # temperature\n",
    "lan_conc_features_importance = feature_importances[208+2048+23]  # Ln c.c./mM\n",
    "lan_features_importance = feature_importances[(208+2048+24):2291] # lanthanides descriptors\n",
    "\n",
    "# Calculate total importance for each group\n",
    "fp_importance_total = np.sum(fp_features_importance)\n",
    "rdkit_importance_total = np.sum(rdkit_features_importance)\n",
    "solvent_a_features_importance_total = np.sum(solvent_a_features_importance)\n",
    "solvent_b_features_importance_total = np.sum(solvent_b_features_importance)\n",
    "lan_features_importance_total = np.sum(lan_features_importance)\n",
    "\n",
    "# Create a DataFrame to store the grouped feature importance\n",
    "grouped_importance_df = pd.DataFrame({\n",
    "    'Feature Group': ['Figureprint Features', 'RDkit Features', 'extractant_conc_features_importance','vol_a_features_importance',\n",
    "'vol_b_features_importance','solvent_a_features_importance','solvent_b_features_importance','acid_dipole_features_importance',\n",
    "'acid_conc_features_importance', 'T_features_importance','lan_conc_features_importance', 'lan_features_importance'],\n",
    "    'Total Importance': [fp_importance_total, rdkit_importance_total,extractant_conc_features_importance,\\\n",
    "                         vol_a_features_importance,vol_b_features_importance,solvent_a_features_importance_total,solvent_b_features_importance_total,\n",
    "                         acid_dipole_features_importance,acid_conc_features_importance,T_features_importance,lan_conc_features_importance,\n",
    "                        lan_features_importance_total]\n",
    "})\n",
    "\n",
    "\n",
    "# Sort the DataFrame by importance, in descending order\n",
    "grouped_importance_df = grouped_importance_df.sort_values(by='Total Importance', ascending=False)\n",
    "\n",
    "# Display the grouped feature importance\n",
    "print(grouped_importance_df)\n",
    "\n",
    "# Plot the grouped feature importance\n",
    "plt.figure(figsize=(8, 5))\n",
    "plt.title(\"Grouped Feature Importances\")\n",
    "plt.barh(grouped_importance_df['Feature Group'], grouped_importance_df['Total Importance'])\n",
    "plt.xlabel(\"Total Importance\")\n",
    "plt.show()"
   ]
  }
 ],
 "metadata": {
  "accelerator": "GPU",
  "colab": {
   "provenance": [],
   "toc_visible": true
  },
  "kernelspec": {
   "display_name": "Python 3 (ipykernel)",
   "language": "python",
   "name": "python3"
  },
  "language_info": {
   "codemirror_mode": {
    "name": "ipython",
    "version": 3
   },
   "file_extension": ".py",
   "mimetype": "text/x-python",
   "name": "python",
   "nbconvert_exporter": "python",
   "pygments_lexer": "ipython3",
   "version": "3.11.7"
  }
 },
 "nbformat": 4,
 "nbformat_minor": 4
}
